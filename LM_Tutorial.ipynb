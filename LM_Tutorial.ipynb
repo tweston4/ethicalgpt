{
 "cells": [
  {
   "attachments": {},
   "cell_type": "markdown",
   "metadata": {},
   "source": [
    "# Introduction to NLP and Large Language Models"
   ]
  },
  {
   "attachments": {},
   "cell_type": "markdown",
   "metadata": {},
   "source": [
    "## Basics of NLP"
   ]
  },
  {
   "attachments": {},
   "cell_type": "markdown",
   "metadata": {},
   "source": [
    "### Install and setup [spaCy](https://spacy.io/) for basic text processing\n",
    "\n",
    "spaCy is a free, open-source library for advanced Natural Language Processing (NLP) in Python."
   ]
  },
  {
   "cell_type": "code",
   "execution_count": 7,
   "metadata": {},
   "outputs": [
    {
     "name": "stdout",
     "output_type": "stream",
     "text": [
      "Requirement already satisfied: spacy in c:\\users\\travis weston\\.conda\\envs\\torchgpu\\lib\\site-packages (3.5.2)\n",
      "Requirement already satisfied: spacy-legacy<3.1.0,>=3.0.11 in c:\\users\\travis weston\\.conda\\envs\\torchgpu\\lib\\site-packages (from spacy) (3.0.12)\n",
      "Requirement already satisfied: spacy-loggers<2.0.0,>=1.0.0 in c:\\users\\travis weston\\.conda\\envs\\torchgpu\\lib\\site-packages (from spacy) (1.0.4)\n",
      "Requirement already satisfied: murmurhash<1.1.0,>=0.28.0 in c:\\users\\travis weston\\.conda\\envs\\torchgpu\\lib\\site-packages (from spacy) (1.0.9)\n",
      "Requirement already satisfied: cymem<2.1.0,>=2.0.2 in c:\\users\\travis weston\\.conda\\envs\\torchgpu\\lib\\site-packages (from spacy) (2.0.7)\n",
      "Requirement already satisfied: preshed<3.1.0,>=3.0.2 in c:\\users\\travis weston\\.conda\\envs\\torchgpu\\lib\\site-packages (from spacy) (3.0.8)\n",
      "Requirement already satisfied: thinc<8.2.0,>=8.1.8 in c:\\users\\travis weston\\.conda\\envs\\torchgpu\\lib\\site-packages (from spacy) (8.1.10)\n",
      "Requirement already satisfied: wasabi<1.2.0,>=0.9.1 in c:\\users\\travis weston\\.conda\\envs\\torchgpu\\lib\\site-packages (from spacy) (1.1.1)\n",
      "Requirement already satisfied: srsly<3.0.0,>=2.4.3 in c:\\users\\travis weston\\.conda\\envs\\torchgpu\\lib\\site-packages (from spacy) (2.4.6)\n",
      "Requirement already satisfied: catalogue<2.1.0,>=2.0.6 in c:\\users\\travis weston\\.conda\\envs\\torchgpu\\lib\\site-packages (from spacy) (2.0.8)\n",
      "Requirement already satisfied: typer<0.8.0,>=0.3.0 in c:\\users\\travis weston\\.conda\\envs\\torchgpu\\lib\\site-packages (from spacy) (0.7.0)\n",
      "Requirement already satisfied: pathy>=0.10.0 in c:\\users\\travis weston\\.conda\\envs\\torchgpu\\lib\\site-packages (from spacy) (0.10.1)\n",
      "Requirement already satisfied: smart-open<7.0.0,>=5.2.1 in c:\\users\\travis weston\\.conda\\envs\\torchgpu\\lib\\site-packages (from spacy) (6.3.0)\n",
      "Requirement already satisfied: tqdm<5.0.0,>=4.38.0 in c:\\users\\travis weston\\.conda\\envs\\torchgpu\\lib\\site-packages (from spacy) (4.65.0)\n",
      "Requirement already satisfied: numpy>=1.15.0 in c:\\users\\travis weston\\.conda\\envs\\torchgpu\\lib\\site-packages (from spacy) (1.24.3)\n",
      "Requirement already satisfied: requests<3.0.0,>=2.13.0 in c:\\users\\travis weston\\.conda\\envs\\torchgpu\\lib\\site-packages (from spacy) (2.29.0)\n",
      "Requirement already satisfied: pydantic!=1.8,!=1.8.1,<1.11.0,>=1.7.4 in c:\\users\\travis weston\\.conda\\envs\\torchgpu\\lib\\site-packages (from spacy) (1.10.7)\n",
      "Requirement already satisfied: jinja2 in c:\\users\\travis weston\\.conda\\envs\\torchgpu\\lib\\site-packages (from spacy) (3.1.2)\n",
      "Requirement already satisfied: setuptools in c:\\users\\travis weston\\.conda\\envs\\torchgpu\\lib\\site-packages (from spacy) (67.7.2)\n",
      "Requirement already satisfied: packaging>=20.0 in c:\\users\\travis weston\\.conda\\envs\\torchgpu\\lib\\site-packages (from spacy) (23.1)\n",
      "Requirement already satisfied: langcodes<4.0.0,>=3.2.0 in c:\\users\\travis weston\\.conda\\envs\\torchgpu\\lib\\site-packages (from spacy) (3.3.0)\n",
      "Requirement already satisfied: typing-extensions>=4.2.0 in c:\\users\\travis weston\\.conda\\envs\\torchgpu\\lib\\site-packages (from pydantic!=1.8,!=1.8.1,<1.11.0,>=1.7.4->spacy) (4.5.0)\n",
      "Requirement already satisfied: charset-normalizer<4,>=2 in c:\\users\\travis weston\\.conda\\envs\\torchgpu\\lib\\site-packages (from requests<3.0.0,>=2.13.0->spacy) (3.1.0)\n",
      "Requirement already satisfied: idna<4,>=2.5 in c:\\users\\travis weston\\.conda\\envs\\torchgpu\\lib\\site-packages (from requests<3.0.0,>=2.13.0->spacy) (3.4)\n",
      "Requirement already satisfied: urllib3<1.27,>=1.21.1 in c:\\users\\travis weston\\.conda\\envs\\torchgpu\\lib\\site-packages (from requests<3.0.0,>=2.13.0->spacy) (1.26.15)\n",
      "Requirement already satisfied: certifi>=2017.4.17 in c:\\users\\travis weston\\.conda\\envs\\torchgpu\\lib\\site-packages (from requests<3.0.0,>=2.13.0->spacy) (2022.12.7)\n",
      "Requirement already satisfied: blis<0.8.0,>=0.7.8 in c:\\users\\travis weston\\.conda\\envs\\torchgpu\\lib\\site-packages (from thinc<8.2.0,>=8.1.8->spacy) (0.7.9)\n",
      "Requirement already satisfied: confection<1.0.0,>=0.0.1 in c:\\users\\travis weston\\.conda\\envs\\torchgpu\\lib\\site-packages (from thinc<8.2.0,>=8.1.8->spacy) (0.0.4)\n",
      "Requirement already satisfied: colorama in c:\\users\\travis weston\\.conda\\envs\\torchgpu\\lib\\site-packages (from tqdm<5.0.0,>=4.38.0->spacy) (0.4.6)\n",
      "Requirement already satisfied: click<9.0.0,>=7.1.1 in c:\\users\\travis weston\\.conda\\envs\\torchgpu\\lib\\site-packages (from typer<0.8.0,>=0.3.0->spacy) (8.1.3)\n",
      "Requirement already satisfied: MarkupSafe>=2.0 in c:\\users\\travis weston\\.conda\\envs\\torchgpu\\lib\\site-packages (from jinja2->spacy) (2.1.2)\n",
      "Requirement already satisfied: beautifulsoup4 in c:\\users\\travis weston\\appdata\\roaming\\python\\python39\\site-packages (4.12.2)\n",
      "Requirement already satisfied: soupsieve>1.2 in c:\\users\\travis weston\\.conda\\envs\\torchgpu\\lib\\site-packages (from beautifulsoup4) (2.4.1)\n"
     ]
    }
   ],
   "source": [
    "'''\n",
    "Install Spacy\n",
    "'''\n",
    "!pip install spacy\n",
    "\n",
    "'''\n",
    "Install beautifulsoup4\n",
    "'''\n",
    "!pip install beautifulsoup4"
   ]
  },
  {
   "attachments": {},
   "cell_type": "markdown",
   "metadata": {},
   "source": [
    "## For the embeddings analysis section you will need to setup a huggingface account and get an api key"
   ]
  },
  {
   "cell_type": "code",
   "execution_count": 190,
   "metadata": {},
   "outputs": [],
   "source": [
    "\n",
    "import configparser as cp\n",
    "config = cp.ConfigParser()\n",
    "config.read(\"config.ini\")\n",
    "api_key = config.get(\"openai\", \"api_key\")\n"
   ]
  },
  {
   "cell_type": "code",
   "execution_count": 208,
   "metadata": {},
   "outputs": [],
   "source": [
    "'''\n",
    "Import spaCy and load the language model\n",
    "'''\n",
    "import spacy\n",
    "from spacy import displacy\n",
    "\n",
    "'''\n",
    "Import request library to download Shakespeare's works for nlp processing\n",
    "'''\n",
    "import requests\n",
    "\n",
    "'''\n",
    "Import BeautifulSoup to parse the html and extract the text of the SHakespear works\n",
    "'''\n",
    "from bs4 import BeautifulSoup\n",
    "\n",
    "''' \n",
    "Import pandas to create a dataframe to store the text\n",
    "'''\n",
    "import pandas as pd\n",
    "\n",
    "'''\n",
    "Import TSNE and matplotlib to visualize the embeddings\n",
    "'''\n",
    "from sklearn.manifold import TSNE\n",
    "import matplotlib.pyplot as plt\n",
    "import matplotlib\n",
    "import seaborn as sns"
   ]
  },
  {
   "cell_type": "code",
   "execution_count": 257,
   "metadata": {},
   "outputs": [],
   "source": [
    "'''\n",
    "Import hugging face transformers and gpt2 tokenizer to create embeddings for the text\n",
    "Utilize TSNE to plot the embeddings in 2D space and visualize the embeddings similarity\n",
    "'''\n",
    "from transformers import (\n",
    "    pipeline,\n",
    "    set_seed,\n",
    "    AutoTokenizer,\n",
    "    AutoModel,\n",
    "    AutoConfig,\n",
    "    AutoModelForCausalLM,\n",
    "    GPT2LMHeadModel,\n",
    ")\n",
    "import numpy as np"
   ]
  },
  {
   "attachments": {},
   "cell_type": "markdown",
   "metadata": {},
   "source": [
    "1. Create the spacy model we will use to tokenize text\n",
    "2. Use requests to download the html of the Shakespear Poem \"Romeo and Juliet\"\n",
    "3. Create the BeautifulSoup model we will use to extract the Shakespear text from the html\n",
    "4. Extract only the text from the html"
   ]
  },
  {
   "cell_type": "code",
   "execution_count": 54,
   "metadata": {},
   "outputs": [],
   "source": [
    "'''\n",
    "1. Create the spacy model we will use to tokenize text\n",
    "'''\n",
    "pipline = [\"tok2vec\", \"tagger\", \"parser\", \"attribute_ruler\", \"lemmatizer\"]\n",
    "nlp = spacy.load(\"en_core_web_sm\")"
   ]
  },
  {
   "cell_type": "code",
   "execution_count": 21,
   "metadata": {},
   "outputs": [
    {
     "name": "stdout",
     "output_type": "stream",
     "text": [
      "ter\">\n",
      "      <a href=\"/Shakespeare\">Shakespeare homepage</A> \n",
      "    | <A href=\"/romeo_juliet/\">Romeo and Juliet</A> \n",
      "    | Entire play\n",
      "</table>\n",
      "\n",
      "<H3>ACT I</h3>\n",
      "<h3>PROLOGUE</h3>\n",
      "<blockquote>\n",
      "<A NAME=1.0.1>Two households, both alike in dignity,</A><br>\n",
      "<A NAME=1.0.2>In fair Verona, where we lay our scene,</A><br>\n",
      "<A NAME=1.0.3>From ancient grudge break to new mutiny,</A><br>\n",
      "<A NAME=1.0.4>Where civil blood makes civil hands unclean.</A><br>\n",
      "<A NAME=1.0.5>From forth the fatal loins of these two foes<\n"
     ]
    }
   ],
   "source": [
    "'''\n",
    "2. Use requests to download the html of the Shakespear Poem \"Romeo and Juliet\"\n",
    "'''\n",
    "response = requests.get(\"http://shakespeare.mit.edu/romeo_juliet/full.html\")  \n",
    "html = response.text\n",
    "print(html[500:1000])"
   ]
  },
  {
   "cell_type": "code",
   "execution_count": 16,
   "metadata": {},
   "outputs": [],
   "source": [
    "'''\n",
    "3. Create the BeautifulSoup model we will use to extract the Shakespear text from the html\n",
    "'''\n",
    "soup = BeautifulSoup(html, \"html.parser\")"
   ]
  },
  {
   "cell_type": "code",
   "execution_count": 28,
   "metadata": {},
   "outputs": [
    {
     "data": {
      "text/plain": [
       "\"parents' rage, Which, but their children's end, nought could remove, Is now the two hours' traffic of our stage; The which if you with patient ears attend, What here shall miss, our toil shall strive to mend.  SCENE I. Verona. A public place.  Enter SAMPSON and GREGORY, of the house of Capulet, armed with swords and bucklers  SAMPSON  Gregory, o' my word, we'll not carry coals.  GREGORY  No, for then we should be colliers.  SAMPSON  I m\""
      ]
     },
     "execution_count": 28,
     "metadata": {},
     "output_type": "execute_result"
    }
   ],
   "source": [
    "'''\n",
    "4. Extract only the text from the html\n",
    "'''\n",
    "text = soup.get_text().replace(\"\\n\", \" \")\n",
    "text[560:1000]"
   ]
  },
  {
   "cell_type": "code",
   "execution_count": 64,
   "metadata": {},
   "outputs": [],
   "source": [
    "doc = nlp(text)\n"
   ]
  },
  {
   "attachments": {},
   "cell_type": "markdown",
   "metadata": {},
   "source": [
    "## Tokens\n",
    "\n",
    "Tokenization is the process of breaking down a piece of text into small units called tokens. A token may be a word, part of a word or just characters like punctuation."
   ]
  },
  {
   "attachments": {},
   "cell_type": "markdown",
   "metadata": {},
   "source": [
    "#### spaCy enables you to extract key lingusitic features of the text and tokenizes the text. \n",
    "\n",
    "A token is the used unit in NLP task. Token is a category that a string (sequesnce of charac    ters) may be added to on the basis of what sort of tokwnization you wish to perform. For instance: in pre-processing of a textual sentence, you lemmatize and tokenize the strings based on whether they are nouns, verbs, adjectives, or adverbs.\n",
    "\n",
    "As you can see in the dataframe below, each row of the text column would be represented as a token. "
   ]
  },
  {
   "cell_type": "code",
   "execution_count": 66,
   "metadata": {},
   "outputs": [
    {
     "data": {
      "text/html": [
       "<div>\n",
       "<style scoped>\n",
       "    .dataframe tbody tr th:only-of-type {\n",
       "        vertical-align: middle;\n",
       "    }\n",
       "\n",
       "    .dataframe tbody tr th {\n",
       "        vertical-align: top;\n",
       "    }\n",
       "\n",
       "    .dataframe thead th {\n",
       "        text-align: right;\n",
       "    }\n",
       "</style>\n",
       "<table border=\"1\" class=\"dataframe\">\n",
       "  <thead>\n",
       "    <tr style=\"text-align: right;\">\n",
       "      <th></th>\n",
       "      <th>TEXT</th>\n",
       "      <th>LEMMA</th>\n",
       "      <th>POS</th>\n",
       "      <th>TYPE</th>\n",
       "      <th>STOPWORD</th>\n",
       "      <th>ALPHA</th>\n",
       "      <th>STOP</th>\n",
       "    </tr>\n",
       "  </thead>\n",
       "  <tbody>\n",
       "    <tr>\n",
       "      <th>0</th>\n",
       "      <td></td>\n",
       "      <td></td>\n",
       "      <td>SPACE</td>\n",
       "      <td>space</td>\n",
       "      <td>False</td>\n",
       "      <td>False</td>\n",
       "      <td>False</td>\n",
       "    </tr>\n",
       "    <tr>\n",
       "      <th>1</th>\n",
       "      <td>Romeo</td>\n",
       "      <td>Romeo</td>\n",
       "      <td>PROPN</td>\n",
       "      <td>proper noun</td>\n",
       "      <td>False</td>\n",
       "      <td>True</td>\n",
       "      <td>False</td>\n",
       "    </tr>\n",
       "    <tr>\n",
       "      <th>2</th>\n",
       "      <td>and</td>\n",
       "      <td>and</td>\n",
       "      <td>CCONJ</td>\n",
       "      <td>coordinating conjunction</td>\n",
       "      <td>True</td>\n",
       "      <td>True</td>\n",
       "      <td>True</td>\n",
       "    </tr>\n",
       "    <tr>\n",
       "      <th>3</th>\n",
       "      <td>Juliet</td>\n",
       "      <td>Juliet</td>\n",
       "      <td>PROPN</td>\n",
       "      <td>proper noun</td>\n",
       "      <td>False</td>\n",
       "      <td>True</td>\n",
       "      <td>False</td>\n",
       "    </tr>\n",
       "    <tr>\n",
       "      <th>4</th>\n",
       "      <td>:</td>\n",
       "      <td>:</td>\n",
       "      <td>PUNCT</td>\n",
       "      <td>punctuation</td>\n",
       "      <td>False</td>\n",
       "      <td>False</td>\n",
       "      <td>False</td>\n",
       "    </tr>\n",
       "    <tr>\n",
       "      <th>5</th>\n",
       "      <td>Entire</td>\n",
       "      <td>entire</td>\n",
       "      <td>ADJ</td>\n",
       "      <td>adjective</td>\n",
       "      <td>False</td>\n",
       "      <td>True</td>\n",
       "      <td>False</td>\n",
       "    </tr>\n",
       "    <tr>\n",
       "      <th>6</th>\n",
       "      <td>Play</td>\n",
       "      <td>play</td>\n",
       "      <td>NOUN</td>\n",
       "      <td>noun</td>\n",
       "      <td>False</td>\n",
       "      <td>True</td>\n",
       "      <td>False</td>\n",
       "    </tr>\n",
       "    <tr>\n",
       "      <th>7</th>\n",
       "      <td></td>\n",
       "      <td></td>\n",
       "      <td>SPACE</td>\n",
       "      <td>space</td>\n",
       "      <td>False</td>\n",
       "      <td>False</td>\n",
       "      <td>False</td>\n",
       "    </tr>\n",
       "    <tr>\n",
       "      <th>8</th>\n",
       "      <td>Romeo</td>\n",
       "      <td>Romeo</td>\n",
       "      <td>PROPN</td>\n",
       "      <td>proper noun</td>\n",
       "      <td>False</td>\n",
       "      <td>True</td>\n",
       "      <td>False</td>\n",
       "    </tr>\n",
       "    <tr>\n",
       "      <th>9</th>\n",
       "      <td>and</td>\n",
       "      <td>and</td>\n",
       "      <td>CCONJ</td>\n",
       "      <td>coordinating conjunction</td>\n",
       "      <td>True</td>\n",
       "      <td>True</td>\n",
       "      <td>True</td>\n",
       "    </tr>\n",
       "    <tr>\n",
       "      <th>10</th>\n",
       "      <td>Juliet</td>\n",
       "      <td>Juliet</td>\n",
       "      <td>PROPN</td>\n",
       "      <td>proper noun</td>\n",
       "      <td>False</td>\n",
       "      <td>True</td>\n",
       "      <td>False</td>\n",
       "    </tr>\n",
       "    <tr>\n",
       "      <th>11</th>\n",
       "      <td></td>\n",
       "      <td></td>\n",
       "      <td>SPACE</td>\n",
       "      <td>space</td>\n",
       "      <td>False</td>\n",
       "      <td>False</td>\n",
       "      <td>False</td>\n",
       "    </tr>\n",
       "    <tr>\n",
       "      <th>12</th>\n",
       "      <td>Shakespeare</td>\n",
       "      <td>Shakespeare</td>\n",
       "      <td>PROPN</td>\n",
       "      <td>proper noun</td>\n",
       "      <td>False</td>\n",
       "      <td>True</td>\n",
       "      <td>False</td>\n",
       "    </tr>\n",
       "    <tr>\n",
       "      <th>13</th>\n",
       "      <td>homepage</td>\n",
       "      <td>homepage</td>\n",
       "      <td>NOUN</td>\n",
       "      <td>noun</td>\n",
       "      <td>False</td>\n",
       "      <td>True</td>\n",
       "      <td>False</td>\n",
       "    </tr>\n",
       "    <tr>\n",
       "      <th>14</th>\n",
       "      <td></td>\n",
       "      <td></td>\n",
       "      <td>SPACE</td>\n",
       "      <td>space</td>\n",
       "      <td>False</td>\n",
       "      <td>False</td>\n",
       "      <td>False</td>\n",
       "    </tr>\n",
       "    <tr>\n",
       "      <th>15</th>\n",
       "      <td>|</td>\n",
       "      <td>|</td>\n",
       "      <td>NOUN</td>\n",
       "      <td>noun</td>\n",
       "      <td>False</td>\n",
       "      <td>False</td>\n",
       "      <td>False</td>\n",
       "    </tr>\n",
       "    <tr>\n",
       "      <th>16</th>\n",
       "      <td>Romeo</td>\n",
       "      <td>Romeo</td>\n",
       "      <td>PROPN</td>\n",
       "      <td>proper noun</td>\n",
       "      <td>False</td>\n",
       "      <td>True</td>\n",
       "      <td>False</td>\n",
       "    </tr>\n",
       "    <tr>\n",
       "      <th>17</th>\n",
       "      <td>and</td>\n",
       "      <td>and</td>\n",
       "      <td>CCONJ</td>\n",
       "      <td>coordinating conjunction</td>\n",
       "      <td>True</td>\n",
       "      <td>True</td>\n",
       "      <td>True</td>\n",
       "    </tr>\n",
       "    <tr>\n",
       "      <th>18</th>\n",
       "      <td>Juliet</td>\n",
       "      <td>Juliet</td>\n",
       "      <td>PROPN</td>\n",
       "      <td>proper noun</td>\n",
       "      <td>False</td>\n",
       "      <td>True</td>\n",
       "      <td>False</td>\n",
       "    </tr>\n",
       "    <tr>\n",
       "      <th>19</th>\n",
       "      <td></td>\n",
       "      <td></td>\n",
       "      <td>SPACE</td>\n",
       "      <td>space</td>\n",
       "      <td>False</td>\n",
       "      <td>False</td>\n",
       "      <td>False</td>\n",
       "    </tr>\n",
       "  </tbody>\n",
       "</table>\n",
       "</div>"
      ],
      "text/plain": [
       "           TEXT        LEMMA    POS                      TYPE  STOPWORD   \n",
       "0                             SPACE                     space     False  \\\n",
       "1         Romeo        Romeo  PROPN               proper noun     False   \n",
       "2           and          and  CCONJ  coordinating conjunction      True   \n",
       "3        Juliet       Juliet  PROPN               proper noun     False   \n",
       "4             :            :  PUNCT               punctuation     False   \n",
       "5        Entire       entire    ADJ                 adjective     False   \n",
       "6          Play         play   NOUN                      noun     False   \n",
       "7                             SPACE                     space     False   \n",
       "8         Romeo        Romeo  PROPN               proper noun     False   \n",
       "9           and          and  CCONJ  coordinating conjunction      True   \n",
       "10       Juliet       Juliet  PROPN               proper noun     False   \n",
       "11                            SPACE                     space     False   \n",
       "12  Shakespeare  Shakespeare  PROPN               proper noun     False   \n",
       "13     homepage     homepage   NOUN                      noun     False   \n",
       "14                            SPACE                     space     False   \n",
       "15            |            |   NOUN                      noun     False   \n",
       "16        Romeo        Romeo  PROPN               proper noun     False   \n",
       "17          and          and  CCONJ  coordinating conjunction      True   \n",
       "18       Juliet       Juliet  PROPN               proper noun     False   \n",
       "19                            SPACE                     space     False   \n",
       "\n",
       "    ALPHA   STOP  \n",
       "0   False  False  \n",
       "1    True  False  \n",
       "2    True   True  \n",
       "3    True  False  \n",
       "4   False  False  \n",
       "5    True  False  \n",
       "6    True  False  \n",
       "7   False  False  \n",
       "8    True  False  \n",
       "9    True   True  \n",
       "10   True  False  \n",
       "11  False  False  \n",
       "12   True  False  \n",
       "13   True  False  \n",
       "14  False  False  \n",
       "15  False  False  \n",
       "16   True  False  \n",
       "17   True   True  \n",
       "18   True  False  \n",
       "19  False  False  "
      ]
     },
     "execution_count": 66,
     "metadata": {},
     "output_type": "execute_result"
    }
   ],
   "source": [
    "cols = (\"TEXT\", \"LEMMA\", \"POS\", \"TYPE\", \"STOPWORD\", \"ALPHA\", \"STOP\")\n",
    "rows = []\n",
    "for t in doc:\n",
    "    row = [t.text, t.lemma_, t.pos_, spacy.explain(t.pos_), t.is_stop, t.is_alpha, t.is_stop]\n",
    "    rows.append(row)\n",
    "\n",
    "df = pd.DataFrame(rows, columns=cols)\n",
    "    \n",
    "df.head(20)"
   ]
  },
  {
   "attachments": {},
   "cell_type": "markdown",
   "metadata": {},
   "source": [
    "#### Common text Processing steps \n",
    " - Remove Stop Words \n",
    " - Remove empty space"
   ]
  },
  {
   "cell_type": "code",
   "execution_count": 147,
   "metadata": {},
   "outputs": [
    {
     "data": {
      "text/plain": [
       "array(['scene', 'ancient', 'grudge', 'break', 'new', 'mutiny', 'civil',\n",
       "       'blood', 'makes', 'civil', 'hands', 'unclean', 'forth', 'fatal',\n",
       "       'loins', 'foes', 'pair', 'star', 'lovers', 'life', 'misadventured',\n",
       "       'piteous', 'overthrows', 'death', 'bury', 'parents', 'strife',\n",
       "       'fearful', 'passage', 'death'], dtype=object)"
      ]
     },
     "execution_count": 147,
     "metadata": {},
     "output_type": "execute_result"
    }
   ],
   "source": [
    "tokens = df.loc[(df[\"STOP\"] == False) & (df[\"ALPHA\"] == True), \"TEXT\"].values\n",
    "tokens[20:50]"
   ]
  },
  {
   "attachments": {},
   "cell_type": "markdown",
   "metadata": {},
   "source": [
    "Here we have a list of tokens without stopwords and empty space. spaCy may be overkill for this usecase but it is a very well documented library for nlp projects. "
   ]
  },
  {
   "attachments": {},
   "cell_type": "markdown",
   "metadata": {},
   "source": [
    "## Embeddings\n",
    "> Word Embeddings are a method of extracting features out of text so that we can input those features into a machine learning model to work with text data. They try to preserve syntactical and semantic information. The methods such as Bag of Words(BOW), CountVectorizer and  TFIDF rely on the word count in a sentence but do not save any syntactical or semantic information. In these algorithms, the size of the vector is the number of elements in the vocabulary. We can get a sparse matrix if most of the elements are zero. Large input vectors  will mean a huge number of weights which will result in high computation required for training. Word Embeddings give a solution to these problems.\n",
    "\n",
    "#### Benifts\n",
    "- To reduce dimensionality\n",
    "- To use a word to predict the words around it\n",
    "- Inter word semantics must be captured\n",
    "  \n",
    "#### How are Word Embeddings used?\n",
    "- They are used as input to machine learning models.\n",
    "- Take the words —-> Give their numeric representation —-> Use in training or inference\n",
    "- To represent or visualize any underlying patterns of usage in the corpus that was used to train them."
   ]
  },
  {
   "attachments": {},
   "cell_type": "markdown",
   "metadata": {},
   "source": [
    "### Convert our **tokens** into Embeddings and work with **embeddings** to understand how they expose bias in language models. \n",
    "\n",
    "We will use 2 embedding methods. AutoTokenizer designed for a hugging face lm model and the hugging face api to get similarity embeddings. "
   ]
  },
  {
   "cell_type": "code",
   "execution_count": 129,
   "metadata": {},
   "outputs": [
    {
     "name": "stdout",
     "output_type": "stream",
     "text": [
      "Example 1:  Encoding and decoding of a single word\n",
      "[23205]\n",
      "love\n",
      "Example 2:  Encoding and decoding of multiple words\n",
      "[23205, 318, 257, 4950, 1517]\n",
      "love is a beautiful thing\n"
     ]
    }
   ],
   "source": [
    "''' \n",
    "Example Encoding and decoding of a single word\n",
    "'''\n",
    "\n",
    "print('Example 1:  Encoding and decoding of a single word')\n",
    "word = \"love\"\n",
    "encoded = tokenizer.encode(word)\n",
    "print(encoded)\n",
    "decoded = tokenizer.decode(encoded)\n",
    "print(decoded)\n",
    "\n",
    "print('Example 2:  Encoding and decoding of multiple words')\n",
    "word = \"love is a beautiful thing\"\n",
    "encoded = tokenizer.encode(word)\n",
    "print(encoded)\n",
    "decoded = tokenizer.decode(encoded)\n",
    "print(decoded)\n"
   ]
  },
  {
   "cell_type": "code",
   "execution_count": 139,
   "metadata": {},
   "outputs": [],
   "source": [
    "sentences = doc.sents\n",
    "embeddings = []\n",
    "labels = []\n",
    "for s in sentences:\n",
    "    t = s.text.strip()\n",
    "    if t != \"\":\n",
    "        embeddings.append(tokenizer(s.text, return_tensors=\"np\",padding=True)[\"input_ids\"])\n",
    "        labels.append(t)"
   ]
  },
  {
   "cell_type": "code",
   "execution_count": 138,
   "metadata": {},
   "outputs": [],
   "source": [
    "tokenizer = AutoTokenizer.from_pretrained(\"gpt2\")    \n",
    "# Set the padding token for the tokenizer\n",
    "tokenizer.pad_token = tokenizer.eos_token "
   ]
  },
  {
   "cell_type": "code",
   "execution_count": 148,
   "metadata": {},
   "outputs": [],
   "source": [
    "token_embeddings = list(set(tokens))"
   ]
  },
  {
   "cell_type": "code",
   "execution_count": 153,
   "metadata": {},
   "outputs": [
    {
     "data": {
      "text/plain": [
       "49"
      ]
     },
     "execution_count": 153,
     "metadata": {},
     "output_type": "execute_result"
    }
   ],
   "source": [
    "token_embeddings[0]"
   ]
  },
  {
   "attachments": {},
   "cell_type": "markdown",
   "metadata": {},
   "source": [
    "Now we have two list:\n",
    "- **labels**: Contains the text of the sentences that do not contain blank text\n",
    "- **embeddings**: The encoded sentences into an array/list of embeddings. Number representations of the words reffered to as the input ids"
   ]
  },
  {
   "cell_type": "code",
   "execution_count": 140,
   "metadata": {},
   "outputs": [
    {
     "name": "stdout",
     "output_type": "stream",
     "text": [
      "I PROLOGUE  Two households, both alike in dignity, In fair Verona, where we lay our scene, From ancient grudge break to new mutiny, Where civil blood makes civil hands unclean.\n",
      "[[   40  4810 33462  8924   220  4930 12503    11  1111 12936   287 16247\n",
      "     11   554  3148  4643  4450    11   810   356  3830   674  3715    11\n",
      "   3574  6156  1036 12587  2270   284   649  4517  3541    11  6350  3026\n",
      "   2910  1838  3026  2832  7711   272    13]]\n"
     ]
    }
   ],
   "source": [
    "print(labels[1])\n",
    "print(embeddings[1])"
   ]
  },
  {
   "attachments": {},
   "cell_type": "markdown",
   "metadata": {},
   "source": [
    "You can also use the tokenizers decode method to revert the embeddings to text "
   ]
  },
  {
   "cell_type": "code",
   "execution_count": 141,
   "metadata": {},
   "outputs": [
    {
     "name": "stdout",
     "output_type": "stream",
     "text": [
      "I PROLOGUE  Two households, both alike in dignity, In fair Verona, where we lay our scene, From ancient grudge break to new mutiny, Where civil blood makes civil hands unclean.\n"
     ]
    }
   ],
   "source": [
    "print(tokenizer.decode(embeddings[1][0]))"
   ]
  },
  {
   "attachments": {},
   "cell_type": "markdown",
   "metadata": {},
   "source": [
    "### Similarity embeddings"
   ]
  },
  {
   "cell_type": "code",
   "execution_count": 192,
   "metadata": {},
   "outputs": [],
   "source": [
    "model_id = \"sentence-transformers/all-mpnet-base-v2\"\n",
    "hf_token = config.get(\"huggingface\", \"api_key\")\n",
    "api_url = f\"https://api-inference.huggingface.co/pipeline/feature-extraction/{model_id}\"\n",
    "headers = {\"Authorization\": f\"Bearer {hf_token}\"}"
   ]
  },
  {
   "cell_type": "code",
   "execution_count": 191,
   "metadata": {},
   "outputs": [],
   "source": [
    "\n",
    "def query(texts):\n",
    "    response = requests.post(\n",
    "        api_url,\n",
    "        headers=headers,\n",
    "        json={\"inputs\": texts, \"options\": {\"wait_for_model\": True}},\n",
    "    )\n",
    "    return response.json()"
   ]
  },
  {
   "cell_type": "code",
   "execution_count": 198,
   "metadata": {},
   "outputs": [],
   "source": [
    "token_embeddings = {}\n",
    "for token in tokens:\n",
    "    encoded = tokenizer.encode(token)\n",
    "    token_embeddings[token]=encoded[0]"
   ]
  },
  {
   "cell_type": "code",
   "execution_count": 195,
   "metadata": {},
   "outputs": [
    {
     "data": {
      "text/plain": [
       "array(['Romeo', 'Juliet', 'Entire', 'Play', 'Romeo', 'Juliet',\n",
       "       'Shakespeare', 'homepage', 'Romeo', 'Juliet'], dtype=object)"
      ]
     },
     "execution_count": 195,
     "metadata": {},
     "output_type": "execute_result"
    }
   ],
   "source": [
    "tokens[0:10]"
   ]
  },
  {
   "cell_type": "code",
   "execution_count": 200,
   "metadata": {},
   "outputs": [],
   "source": [
    "uni_tokens = list(set(token_embeddings.keys()))"
   ]
  },
  {
   "cell_type": "code",
   "execution_count": 205,
   "metadata": {},
   "outputs": [
    {
     "data": {
      "text/plain": [
       "['fashion',\n",
       " 'Potpan',\n",
       " 'living',\n",
       " 'Rest',\n",
       " 'betwitched',\n",
       " 'gossips',\n",
       " 'Queen',\n",
       " 'meteor',\n",
       " 'hap',\n",
       " 'throats',\n",
       " 'suffer',\n",
       " 'cousin',\n",
       " 'shame',\n",
       " 'posterity',\n",
       " 'cries',\n",
       " 'Straining',\n",
       " 'unmade',\n",
       " 'church',\n",
       " 'agile',\n",
       " 'sacrificed']"
      ]
     },
     "execution_count": 205,
     "metadata": {},
     "output_type": "execute_result"
    }
   ],
   "source": [
    "uni_tokens[0:20]"
   ]
  },
  {
   "cell_type": "code",
   "execution_count": 213,
   "metadata": {},
   "outputs": [],
   "source": [
    "embs = query(list(uni_tokens[0:30]))"
   ]
  },
  {
   "cell_type": "code",
   "execution_count": 214,
   "metadata": {},
   "outputs": [],
   "source": [
    "emb_X = np.array(embs)\n",
    "emb_y = np.array(uni_tokens[0:30])"
   ]
  },
  {
   "attachments": {},
   "cell_type": "markdown",
   "metadata": {},
   "source": [
    "We use spaCy to extract sentences into a list and pass the list into the GPT-2 Tokenizer to convert each word (token) into its ID (embedding)."
   ]
  },
  {
   "attachments": {},
   "cell_type": "markdown",
   "metadata": {},
   "source": [
    "## Analyze Embeddings"
   ]
  },
  {
   "attachments": {},
   "cell_type": "markdown",
   "metadata": {},
   "source": [
    "Embeddings do come with risk which is the purpose of this project, but below is the risk of bias from OpenAI:\n",
    "\n",
    "> **Limitations & risks**:\n",
    "Our embedding models may be unreliable or pose social risks in certain cases, and may cause harm in the absence of mitigations.\n",
    "Social bias\n",
    "**Limitation**: The models encode social biases, e.g. via stereotypes or negative sentiment towards certain groups.\n",
    "We found evidence of bias in our models via running the SEAT (May et al, 2019) and the Winogender (Rudinger et al, 2018) benchmarks. Together, these benchmarks consist of 7 tests that measure whether models contain implicit biases when applied to gendered names, regional names, and some stereotypes.\n",
    "For example, we found that our models more strongly associate (a) European American names with positive sentiment, when compared to African American names, and (b) negative stereotypes with black women.\n",
    "These benchmarks are limited in several ways: (a) they may not generalize to your particular use case, and (b) they only test for a very small slice of possible social bias.\n",
    "These tests are preliminary, and we recommend running tests for your specific use cases. These results should be taken as evidence of the existence of the phenomenon, not a definitive characterization of it for your use case. Please see our usage policies for more details and guidance.\n"
   ]
  },
  {
   "cell_type": "code",
   "execution_count": 221,
   "metadata": {},
   "outputs": [
    {
     "data": {
      "image/png": "[encoded data removed]",
      "text/plain": [
       "<Figure size 2000x1600 with 1 Axes>"
      ]
     },
     "metadata": {},
     "output_type": "display_data"
    }
   ],
   "source": [
    "\n",
    "n_components = 2\n",
    "tsne = TSNE(n_components, perplexity=4)\n",
    "tsne_result = tsne.fit_transform(emb_X)\n",
    "tsne_result.shape\n",
    "\n",
    "# Plot the result of our TSNE with the label color coded\n",
    "# A lot of the stuff here is about making the plot look pretty and not TSNE\n",
    "plt.rcParams[\"figure.figsize\"] = (20, 16)\n",
    "tsne_result_df = pd.DataFrame(\n",
    "    {\"tsne_1\": tsne_result[:, 0], \"tsne_2\": tsne_result[:, 1], \"label\": emb_y}\n",
    ")\n",
    "fig, ax = plt.subplots(1)\n",
    "sns.scatterplot(x=\"tsne_1\", y=\"tsne_2\", hue=\"tsne_1\", data=tsne_result_df, ax=ax, s=120)\n",
    "lim = (tsne_result.min() - 5, tsne_result.max() + 5)\n",
    "ax.set_xlim(lim)\n",
    "ax.set_ylim(lim)\n",
    "ax.set_aspect(\"equal\")\n",
    "ax.legend(bbox_to_anchor=(1.05, 1), loc=2, borderaxespad=0.0)\n",
    "for i, data in tsne_result_df.iterrows():\n",
    "    plt.text(x=data.tsne_1 + 0.3, y=data.tsne_2 + 0.3, s=data.label)"
   ]
  },
  {
   "attachments": {},
   "cell_type": "markdown",
   "metadata": {},
   "source": [
    "### As you can see in the graph above, similar embeddings are clusterd together based on their numerical embeddings\n",
    "\n",
    "\n",
    "### Now lets look at the embeddidngs of words that may display bias\n"
   ]
  },
  {
   "cell_type": "code",
   "execution_count": 222,
   "metadata": {},
   "outputs": [],
   "source": [
    "text = [\n",
    "    \"man\",\n",
    "    \"woman\",\n",
    "    \"smart\",\n",
    "    \"intelligent\",\n",
    "    \"brave\",\n",
    "    \"ugly\",\n",
    "    \"wealthy\",\n",
    "    \"thief\",\n",
    "    \"criminal\",\n",
    "    \"genius\",\n",
    "    \"white person\",\n",
    "    \"black person\",\n",
    "    \"CEO\",\n",
    "    \"Nurse\",\n",
    "    \"Engineer\",\n",
    "    \"Homeless\",\n",
    "    \"poverty\",\n",
    "    \"violent\",\n",
    "    \"rich\",\n",
    "    \"poor\",\n",
    "    \"healthy\",\n",
    "    \"monkey\",\n",
    "    \"human\",\n",
    "    \"servant\",\n",
    "    \"beautiful\",\n",
    "    \"strong\",\n",
    "    \"Cashier\",\n",
    "    \"executive\",\n",
    "    \"leader\",\n",
    "    \"pleasant\",\n",
    "    \"organized\",\n",
    "    \"oppressed\",\n",
    "    \"hispanic\",\n",
    "    \"african\",\n",
    "    \"caucasian\",\n",
    "    \"asian\",\n",
    "    \"difficult\",\n",
    "    \"disabled person\",\n",
    "    \"sad\",\n",
    "    \"happy\",\n",
    "    \"family\",\n",
    "    \"nurturing\",\n",
    "]"
   ]
  },
  {
   "cell_type": "code",
   "execution_count": 225,
   "metadata": {},
   "outputs": [],
   "source": [
    "embeddings = query(text)\n",
    "emb_X = np.array(embeddings)\n",
    "emb_y = np.array(text)"
   ]
  },
  {
   "cell_type": "code",
   "execution_count": 226,
   "metadata": {},
   "outputs": [
    {
     "data": {
      "image/png": "[encoded data removed]",
      "text/plain": [
       "<Figure size 2000x1600 with 1 Axes>"
      ]
     },
     "metadata": {},
     "output_type": "display_data"
    }
   ],
   "source": [
    "\n",
    "n_components = 2\n",
    "tsne = TSNE(n_components, perplexity=6)\n",
    "tsne_result = tsne.fit_transform(emb_X)\n",
    "tsne_result.shape\n",
    "\n",
    "# Plot the result of our TSNE with the label color coded\n",
    "# A lot of the stuff here is about making the plot look pretty and not TSNE\n",
    "plt.rcParams[\"figure.figsize\"] = (20, 16)\n",
    "tsne_result_df = pd.DataFrame(\n",
    "    {\"tsne_1\": tsne_result[:, 0], \"tsne_2\": tsne_result[:, 1], \"label\": emb_y}\n",
    ")\n",
    "fig, ax = plt.subplots(1)\n",
    "sns.scatterplot(x=\"tsne_1\", y=\"tsne_2\", hue=\"tsne_1\", data=tsne_result_df, ax=ax, s=120)\n",
    "lim = (tsne_result.min() - 5, tsne_result.max() + 5)\n",
    "ax.set_xlim(lim)\n",
    "ax.set_ylim(lim)\n",
    "ax.set_aspect(\"equal\")\n",
    "ax.legend(bbox_to_anchor=(1.05, 1), loc=2, borderaxespad=0.0)\n",
    "for i, data in tsne_result_df.iterrows():\n",
    "    plt.text(x=data.tsne_1 + 0.3, y=data.tsne_2 + 0.3, s=data.label)"
   ]
  },
  {
   "attachments": {},
   "cell_type": "markdown",
   "metadata": {},
   "source": [
    "## Can you identify any bias in the word embeddings?\n",
    "\n",
    "#### Does Monkey apear to be closer to a specific ethnic group, how about violent or criminal?\n",
    "\n",
    "## We can also use cosine similarity to identify bias"
   ]
  },
  {
   "cell_type": "code",
   "execution_count": 227,
   "metadata": {},
   "outputs": [],
   "source": [
    "emb_dict = dict(zip(text, embeddings))\n"
   ]
  },
  {
   "cell_type": "code",
   "execution_count": 232,
   "metadata": {},
   "outputs": [
    {
     "data": {
      "text/plain": [
       "1.191962820740868"
      ]
     },
     "execution_count": 232,
     "metadata": {},
     "output_type": "execute_result"
    }
   ],
   "source": [
    "dist1 = np.linalg.norm(\n",
    "    np.array(emb_dict[\"black person\"]) - np.array(emb_dict[\"violent\"])\n",
    ")\n",
    "dist1"
   ]
  },
  {
   "cell_type": "code",
   "execution_count": 233,
   "metadata": {},
   "outputs": [
    {
     "data": {
      "text/plain": [
       "1.214297191892197"
      ]
     },
     "execution_count": 233,
     "metadata": {},
     "output_type": "execute_result"
    }
   ],
   "source": [
    "dist2 = np.linalg.norm(\n",
    "    np.array(emb_dict[\"white person\"]) - np.array(emb_dict[\"violent\"])\n",
    ")\n",
    "dist2"
   ]
  },
  {
   "cell_type": "code",
   "execution_count": 234,
   "metadata": {},
   "outputs": [
    {
     "name": "stdout",
     "output_type": "stream",
     "text": [
      "Distance between black person and violent:  1.191962820740868\n",
      "Distance between white person and violent:  1.214297191892197\n",
      "Difference:  -0.02233437115132908\n"
     ]
    }
   ],
   "source": [
    "print(\"Distance between black person and violent: \", dist1)\n",
    "print(\"Distance between white person and violent: \", dist2)\n",
    "print(\"Difference: \", dist1 - dist2)"
   ]
  },
  {
   "attachments": {},
   "cell_type": "markdown",
   "metadata": {},
   "source": [
    "This small difference can be the result of a LLM choosing violent for the next word when talking about a black person vs a white person."
   ]
  },
  {
   "attachments": {},
   "cell_type": "markdown",
   "metadata": {},
   "source": [
    "# Trained Model on a corputs of text from Dr. Williams \n",
    "\n",
    "### In this section we will explore training a model from [🤗 Transformers](https://github.com/huggingface/transformers) for text generation"
   ]
  },
  {
   "attachments": {},
   "cell_type": "markdown",
   "metadata": {},
   "source": [
    "## The Model\n",
    "\n",
    "I have already collected a corpus of text which includes literature and tweets from Dr. Williams. This corpus has been formatted specifically for a particular model that you are using.\n",
    "\n",
    "To simplify the process, you can use the corpus file directly with the model without any further preprocessing. The model is specifically designed to work with this particular corpus file. However, if you need to use a different corpus, you may need to modify the model accordingly.\n",
    "\n",
    "The necessary work of collecting and formatting the corpus is complete, so you can proceed to use it with the model without any additional preprocessing."
   ]
  },
  {
   "attachments": {},
   "cell_type": "markdown",
   "metadata": {},
   "source": [
    "### Key Terms\n",
    "\n",
    "- **Epoch**\n",
    "  - An epoch in training transformers from Hugging Face refers to one complete iteration through the entire training dataset using a specific set of hyperparameters. During each epoch, the model updates its internal weights and biases based on the training data and the optimization algorithm used. The number of epochs is an important hyperparameter that can affect model performance and needs to be balanced with other hyperparameters to achieve the best results.\n",
    "- **Embedding**\n",
    "  - An embedding is a numerical representation of a piece of information, for example, text, documents, images, audio, etc. The representation captures the semantic meaning of what is being embedded, making it robust for many industry applications.\n",
    "- **Dataset**\n",
    "  - Datasets is a library for easily accessing and sharing datasets for Audio, Computer Vision, and Natural Language Processing (NLP) tasks.\n",
    "    - train: this is used for training your model. \n",
    "    - validation: this is used for validating the model hyperparameters. \n",
    "    - test: this is used for evaluating your model.\n",
    "- **Model**\n",
    "  - A Hugging Face model is simply a machine learning (or AI) project that uses a framework provided by the Hugging Face community. Many of these models are ready-to-go and can be used right away, largely within the PyTorch framework.\n",
    "- **Token**\n",
    "  - In machine learning, a tensor is a multi-dimensional array of numerical data that is used to represent the input and output data in a machine learning model. Tensors can have any number of dimensions, also known as axes or ranks. For example, a one-dimensional tensor is a vector, a two-dimensional tensor is a matrix, and a three-dimensional tensor is a cube. Higher dimensional tensors can represent more complex data structures, such as images or videos.\n",
    "- **DataCollector**\n",
    "  - Data collators are objects that will form a batch by using a list of dataset elements as input. These elements are of the same type as the elements of train_dataset or eval_dataset.\n",
    "- **Trainer**\n",
    "  - The Trainer class provides an API for feature-complete training in PyTorch for most standard use cases. It’s used in most of the example scripts.\n",
    "- **Learning Rate**\n",
    "  - In machine learning, the learning rate is a hyperparameter that determines how quickly a model learns from the training data. It controls the step size that the optimizer takes during each iteration of training. The learning rate is a scalar value that is usually set between 0.0 and 1.0, and is typically adjusted during the training process to find the optimal value that results in the best model performance.\n",
    "- **Optimizer**\n",
    "  - The optimizer is an algorithm that is used to update the model's weights and biases during training. It is responsible for minimizing the loss function that measures the difference between the predicted outputs of the model and the true labels in the training data.There are several types of optimizers, including stochastic gradient descent (SGD), Adam, RMSProp, and Adagrad, among others. Each optimizer has its own set of hyperparameters that can be adjusted to achieve the best model performance."
   ]
  },
  {
   "attachments": {},
   "cell_type": "markdown",
   "metadata": {},
   "source": [
    "### Adam Optimizer\n",
    "\n",
    "Adam (short for Adaptive Moment Estimation) is a popular optimization algorithm used in machine learning to update the weights and biases of a model during training.  The Adam optimizer combines the advantages of two other popular optimization algorithms, Adagrad and RMSprop, to provide a robust and efficient method for gradient descent optimization. It uses both the first and second moments of the gradients to adaptively adjust the learning rate during training.\n",
    "\n",
    "In simple terms, the Adam optimizer adjusts the learning rate based on the gradient of the loss function and the rate at which the gradients change over time. This helps the optimizer converge faster to the optimal solution and avoid getting stuck in local minima. The Adam optimizer is a powerful optimization algorithm that is widely used in deep learning for its ability to efficiently train complex models with large datasets.\n",
    "\n",
    "Adam optimizer is commonly used in training transformers and word embeddings models due to its efficiency in handling large datasets and complex models. Transformers and word embeddings are examples of deep learning models that have a large number of parameters that need to be updated during training. These models require a powerful optimization algorithm that can effectively update the weights and biases of the model to minimize the loss function and improve the model's performance. It provides several advantages that make it an ideal choice for training these types of models. It uses adaptive learning rates that are based on the estimated first and second moments of the gradients. This helps to overcome the challenges of learning rate tuning, which can be a time-consuming and challenging task. Also, Adam optimizer is known to perform well in handling sparse gradients, which are common in transformers and word embeddings models. It also has the ability to efficiently handle large datasets, which is important when training these models on massive amounts of text data.\n",
    "\n",
    "The Adam optimizer is an effective and efficient optimization algorithm that is commonly used in training transformers and word embeddings models due to its ability to handle the large, complex, and sparse models commonly encountered in natural language processing."
   ]
  },
  {
   "cell_type": "code",
   "execution_count": 248,
   "metadata": {},
   "outputs": [],
   "source": [
    "\n",
    "from random import  sample\n",
    "\n",
    "import torch\n",
    "from torch.nn import functional as F\n",
    "from torch.utils.data import Dataset\n",
    "from transformers import (\n",
    "    DataCollatorForLanguageModeling,\n",
    "    GPT2LMHeadModel,\n",
    "    GPT2Tokenizer,\n",
    "    Trainer,\n",
    "    TrainingArguments\n",
    ")\n",
    "\n",
    "\n",
    "''' \n",
    "Define the dataset class which will be used to load the data into the model by processing the corpus.\n",
    "'''\n",
    "\n",
    "class TextDataset(Dataset):\n",
    "    def __init__(self, text_file, block_size=256):\n",
    "        self.tokenizer = GPT2Tokenizer.from_pretrained(\"gpt2\")\n",
    "\n",
    "        self.block_size = block_size\n",
    "        self.pad = self.tokenizer.encode(self.tokenizer.eos_token)[0]\n",
    "        self.data = {\"train\": [], \"validation\": []}\n",
    "        self.data[\"train\"] = self.generate_dateset(text_file)\n",
    "        self.data[\"validation\"] = self.generate_dateset(text_file, eval=True, split=0.1)\n",
    "\n",
    "    def generate_dateset(self, text_file, eval=False, split=0.1):\n",
    "        data = []\n",
    "        with open(text_file, \"r\", encoding=\"utf-8\") as f:\n",
    "            text = f.read().split(\"<BREAK>\")\n",
    "            if eval:\n",
    "                text = sample(text, int(len(text) * split))\n",
    "\n",
    "        input_ids = []\n",
    "        attention_mask = []\n",
    "        for t in text:\n",
    "            input_ids.extend(self.tokenizer.encode(t))\n",
    "            attention_mask.extend([1 for i in range(len(input_ids))])\n",
    "        input_ids = self.pad_list(input_ids)\n",
    "        attention_mask = self.pad_list(attention_mask)\n",
    "        id_chunks = list(self.chunks(input_ids, self.block_size))\n",
    "        attm_chunks = list(self.chunks(attention_mask, self.block_size))\n",
    "\n",
    "        for id, mask in zip(id_chunks, attm_chunks):\n",
    "            data.append(\n",
    "                {\n",
    "                    \"input_ids\": torch.tensor(id),\n",
    "                    \"attention_mask\": torch.tensor(mask),\n",
    "                    \"labels\": torch.tensor(id.copy()),\n",
    "                }\n",
    "            )\n",
    "        return data\n",
    "\n",
    "    def pad_list(self, input_ids):\n",
    "        padding = self.block_size - (len(input_ids) % self.block_size)\n",
    "        _ = [input_ids.append(self.pad) for _ in range(padding)]\n",
    "        return input_ids\n",
    "\n",
    "    def chunks(self, lst, n):\n",
    "        \"\"\"Yield successive n-sized chunks from lst.\"\"\"\n",
    "        for i in range(0, len(lst), n):\n",
    "            yield lst[i : i + n]\n",
    "\n",
    "    def __len__(self):\n",
    "        return len(self.data)\n",
    "\n",
    "    def __getitem__(self, index):\n",
    "        return self.data[index]\n",
    "\n",
    "\n",
    "def group_texts(examples, block_size=512):\n",
    "    # Concatenate all texts.\n",
    "    concatenated_examples = {k: sum(examples[k], []) for k in examples.keys()}\n",
    "    total_length = len(concatenated_examples[list(examples.keys())[0]])\n",
    "    # We drop the small remainder, we could add padding if the model supported it instead of this drop, you can\n",
    "    # customize this part to your needs.\n",
    "    total_length = (total_length // block_size) * block_size\n",
    "    # Split by chunks of max_len.\n",
    "    result = {\n",
    "        k: [t[i : i + block_size] for i in range(0, total_length, block_size)]\n",
    "        for k, t in concatenated_examples.items()\n",
    "    }\n",
    "    result[\"labels\"] = result[\"input_ids\"].copy()\n",
    "    return result\n",
    "\n",
    "'''\n",
    "Define a method to train the model and save the results into checkpoints.\n",
    "'''\n",
    "\n",
    "def train_lm(resume_from_checkpoint=False, corpus_file=\"corpus.txt\", num_epochs=5):\n",
    "    # Create Tokenizer and Model objects\n",
    "    tokenizer = GPT2Tokenizer.from_pretrained(\"gpt2\")\n",
    "    tokenizer.pad_token = tokenizer.eos_token\n",
    "    # Initialize model\n",
    "    model = GPT2LMHeadModel.from_pretrained(\"gpt2\")\n",
    "    block_size = 512\n",
    "    dataset = TextDataset(corpus_file, block_size=block_size)\n",
    "    optimizer = torch.optim.AdamW(model.parameters(), lr=1e-8)\n",
    "\n",
    "    train_collator = DataCollatorForLanguageModeling(tokenizer=tokenizer, mlm=False)\n",
    "\n",
    "    torch.cuda.empty_cache()\n",
    "\n",
    "    model_checkpoint = \"ethical\"\n",
    "    model_name = model_checkpoint.split(\"/\")[-1]\n",
    "    training_args = TrainingArguments(\n",
    "        f\"{model_name}-finetuned-gpt2\",\n",
    "        evaluation_strategy=\"epoch\",\n",
    "        learning_rate=1e-5,\n",
    "        weight_decay=0.01,\n",
    "        per_device_train_batch_size=1,\n",
    "        per_device_eval_batch_size=1,\n",
    "        num_train_epochs=num_epochs,\n",
    "        logging_dir=\"./logs\",\n",
    "    )\n",
    "\n",
    "    trainer = Trainer(\n",
    "        model=model,\n",
    "        args=training_args,\n",
    "        train_dataset=dataset[\"train\"],\n",
    "        eval_dataset=dataset[\"validation\"],\n",
    "        data_collator=train_collator,\n",
    "        optimizers=(optimizer, None),\n",
    "    )\n",
    "\n",
    "    trainer.train(resume_from_checkpoint=resume_from_checkpoint)"
   ]
  },
  {
   "cell_type": "code",
   "execution_count": null,
   "metadata": {},
   "outputs": [],
   "source": [
    "'''\n",
    "Change to the source directory to run the code.\n",
    "./src\n",
    "'''\n",
    "\n",
    "import os\n",
    "\n",
    "new_root_dir = './src'\n",
    "os.chdir(new_root_dir)"
   ]
  },
  {
   "attachments": {},
   "cell_type": "markdown",
   "metadata": {},
   "source": [
    "### This may take a while depending on your CPU/GPU"
   ]
  },
  {
   "cell_type": "code",
   "execution_count": 247,
   "metadata": {},
   "outputs": [
    {
     "data": {
      "application/vnd.jupyter.widget-view+json": {
       "model_id": "95dc49bfb376438c9c5293d66d6c9b25",
       "version_major": 2,
       "version_minor": 0
      },
      "text/plain": [
       "  0%|          | 0/4785 [00:00<?, ?it/s]"
      ]
     },
     "metadata": {},
     "output_type": "display_data"
    },
    {
     "data": {
      "application/vnd.jupyter.widget-view+json": {
       "model_id": "eac8fa59465343dcb68a8fc19de25778",
       "version_major": 2,
       "version_minor": 0
      },
      "text/plain": [
       "  0%|          | 0/32 [00:00<?, ?it/s]"
      ]
     },
     "metadata": {},
     "output_type": "display_data"
    },
    {
     "name": "stdout",
     "output_type": "stream",
     "text": [
      "{'eval_loss': 3.2647104263305664, 'eval_runtime': 0.8745, 'eval_samples_per_second': 36.591, 'eval_steps_per_second': 36.591, 'epoch': 15.0}\n",
      "{'train_runtime': 35.4992, 'train_samples_per_second': 134.792, 'train_steps_per_second': 134.792, 'train_loss': 0.19139156839815177, 'epoch': 15.0}\n"
     ]
    }
   ],
   "source": [
    "''' \n",
    "Train the model\n",
    "set resume_from_checkpoint=True to resume training from the last checkpoint else set it to False to start training from scratch.\n",
    "Pass the path of the corpus file to the train_lm method with the parameter corpus_file.\n",
    "'''\n",
    "train_lm(resume_from_checkpoint=True,num_epochs=3)\n"
   ]
  },
  {
   "attachments": {},
   "cell_type": "markdown",
   "metadata": {},
   "source": [
    "### Text Generation with our fine tuned model **EthicalGPT**"
   ]
  },
  {
   "cell_type": "code",
   "execution_count": 259,
   "metadata": {},
   "outputs": [],
   "source": [
    "''' \n",
    "Load the model from the checkpoint.\n",
    "'''\n",
    "model = GPT2LMHeadModel.from_pretrained(\"ethical-finetuned-gpt2\\checkpoint-4500\")\n",
    "tokenizer = GPT2Tokenizer.from_pretrained(\"gpt2\")\n",
    "generator = pipeline('text-generation', model=model, tokenizer=tokenizer)\n",
    "set_seed(99)"
   ]
  },
  {
   "cell_type": "code",
   "execution_count": 254,
   "metadata": {},
   "outputs": [],
   "source": [
    "'''\n",
    "Create a sentence with the seed text and generate the next 50 words.\n",
    "'''\n",
    "sentence = \"Artificial Intelligence impacts the society\""
   ]
  },
  {
   "cell_type": "code",
   "execution_count": 255,
   "metadata": {},
   "outputs": [],
   "source": [
    "''' \n",
    "Tokebnize the sentence and convert it into a tensor.\n",
    "'''\n",
    "input = tokenizer.encode(sentence, return_tensors=\"pt\")\n"
   ]
  },
  {
   "cell_type": "code",
   "execution_count": 260,
   "metadata": {},
   "outputs": [
    {
     "name": "stderr",
     "output_type": "stream",
     "text": [
      "C:\\Users\\Travis Weston\\AppData\\Roaming\\Python\\Python39\\site-packages\\transformers\\generation\\utils.py:1201: UserWarning: You have modified the pretrained model configuration to control generation. This is a deprecated strategy to control generation and will be removed soon, in a future version. Please use a generation configuration file (see https://huggingface.co/docs/transformers/main_classes/text_generation)\n",
      "  warnings.warn(\n",
      "Setting `pad_token_id` to `eos_token_id`:50256 for open-end generation.\n"
     ]
    },
    {
     "data": {
      "text/plain": [
       "[{'generated_text': 'Artificial Intelligence impacts the society we live in,\" said Dr. James T. Wilson, a neurobiologist at the Keck Center for AI and Society at the University of Florida, who co-authored the paper. \"I think the potential cost'},\n",
       " {'generated_text': 'Artificial Intelligence impacts the society and the lives of billions of people. The technology is going to make a bad world and every single one of those  bad  worlds are going to have AI solutions to their        “'},\n",
       " {'generated_text': 'Artificial Intelligence impacts the society, not just in the ways that it is applied. For instance, AI-focused healthcare providers may not be able to accurately assess whether patients who have been exposed to hazardous chemicals or drugs need biotronic imaging (B'},\n",
       " {'generated_text': \"Artificial Intelligence impacts the society's priorities and interests to the point of being a violation of human rights. There are a great deal of human rights and ethical concerns that are being fought at the societal level as a whole, including the dignity of women,\"},\n",
       " {'generated_text': 'Artificial Intelligence impacts the society and the lives of people within it, we must be careful to consider the implications of those ideas, understand their interplay with the systems we create, and use them judiciously and responsibly. But, in order to'}]"
      ]
     },
     "execution_count": 260,
     "metadata": {},
     "output_type": "execute_result"
    }
   ],
   "source": [
    "generator(sentence, max_length=50, num_return_sequences=5)"
   ]
  },
  {
   "attachments": {},
   "cell_type": "markdown",
   "metadata": {},
   "source": [
    "# Results\n",
    "\n",
    "After fine-tuning GPT-2 on Dr. Williams' text corpus, the model's responses closely resembled Dr. Williams' writing style and content. By comparing Our FineTuned GPT-2's response to another text generation model's output on a prompt about artificial intelligence, we were able to highlight the potential risk of bias in large language models that can arise from their training datasets. Our discussion on embeddings provided further context on how such bias can manifest in model prompts, leading to false narratives and harmful outcomes.\n",
    "\n",
    "Response From External Model:\n",
    "> Artificial intelligence has a significant impact on society, ranging from improvements in healthcare and transportation to concerns around job displacement and privacy. As AI continues to evolve and become more integrated into our lives, it is essential to carefully consider its potential benefits and risks.\n"
   ]
  }
 ],
 "metadata": {
  "kernelspec": {
   "display_name": "torchgpu",
   "language": "python",
   "name": "python3"
  },
  "language_info": {
   "codemirror_mode": {
    "name": "ipython",
    "version": 3
   },
   "file_extension": ".py",
   "mimetype": "text/x-python",
   "name": "python",
   "nbconvert_exporter": "python",
   "pygments_lexer": "ipython3",
   "version": "3.9.16"
  },
  "orig_nbformat": 4
 },
 "nbformat": 4,
 "nbformat_minor": 2
}
